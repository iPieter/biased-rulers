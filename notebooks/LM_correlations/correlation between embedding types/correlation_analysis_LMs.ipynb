{
 "cells": [
  {
   "cell_type": "code",
   "execution_count": 19,
   "metadata": {},
   "outputs": [
    {
     "data": {
      "text/plain": [
       "0    0.903205\n",
       "1    0.517609\n",
       "2    1.150959\n",
       "3    0.765110\n",
       "4    0.395628\n",
       "dtype: float64"
      ]
     },
     "execution_count": 19,
     "metadata": {},
     "output_type": "execute_result"
    }
   ],
   "source": [
    "import json\n",
    "import ast\n",
    "import pandas as pd\n",
    "\n",
    "a_file = open(\"seat_CLS_templates_Language_models.json\", \"r\")\n",
    "seat_CLS_templates = a_file.read()\n",
    "seat_CLS_templates = json.loads(seat_CLS_templates)\n",
    "cls_correlation_df = pd.DataFrame(seat_CLS_templates)\n",
    "cls_df = cls_correlation_df.mean(axis = 1)\n",
    "cls_df"
   ]
  },
  {
   "cell_type": "code",
   "execution_count": 20,
   "metadata": {},
   "outputs": [
    {
     "data": {
      "text/plain": [
       "0    0.586886\n",
       "1    0.040473\n",
       "2   -0.154225\n",
       "3    0.915775\n",
       "4    0.019882\n",
       "dtype: float64"
      ]
     },
     "execution_count": 20,
     "metadata": {},
     "output_type": "execute_result"
    }
   ],
   "source": [
    "import json\n",
    "import ast\n",
    "import pandas as pd\n",
    "\n",
    "a_file = open(\"2_seat_no_context_templates_Language_models.json\", \"r\")\n",
    "seat_no_context_templates_Language_models = a_file.read()\n",
    "seat_no_context_templates_Language_models = json.loads(seat_no_context_templates_Language_models)\n",
    "seat_no_context_templates_Language_models_df = pd.DataFrame(seat_no_context_templates_Language_models)\n",
    "seat_no_context_templates_Language_models_df = seat_no_context_templates_Language_models_df.mean(axis = 1)\n",
    "seat_no_context_templates_Language_models_df"
   ]
  },
  {
   "cell_type": "code",
   "execution_count": 21,
   "metadata": {},
   "outputs": [
    {
     "data": {
      "text/plain": [
       "0    0.624534\n",
       "1   -0.303670\n",
       "2    0.045648\n",
       "3    0.565342\n",
       "4    0.004515\n",
       "dtype: float64"
      ]
     },
     "execution_count": 21,
     "metadata": {},
     "output_type": "execute_result"
    }
   ],
   "source": [
    "import json\n",
    "import ast\n",
    "import pandas as pd\n",
    "\n",
    "a_file = open(\"3_seat_no_context_pooled_templates_Language_models.json\", \"r\")\n",
    "seat_no_context_pooled_templates_Language_models = a_file.read()\n",
    "seat_no_context_pooled_templates_Language_models = json.loads(seat_no_context_pooled_templates_Language_models)\n",
    "seat_no_context_pooled_templates_Language_models_df = pd.DataFrame(seat_no_context_pooled_templates_Language_models)\n",
    "seat_no_context_pooled_templates_Language_models_df = seat_no_context_pooled_templates_Language_models_df.mean(axis = 1)\n",
    "seat_no_context_pooled_templates_Language_models_df"
   ]
  },
  {
   "cell_type": "code",
   "execution_count": 24,
   "metadata": {},
   "outputs": [
    {
     "data": {
      "text/plain": [
       "0    0.844692\n",
       "1    0.759679\n",
       "2    0.756952\n",
       "3    0.586787\n",
       "4    0.557663\n",
       "dtype: float64"
      ]
     },
     "execution_count": 24,
     "metadata": {},
     "output_type": "execute_result"
    }
   ],
   "source": [
    "import json\n",
    "import ast\n",
    "import pandas as pd\n",
    "\n",
    "a_file = open(\"4_seat_SWP_pooled_templates_Language_models.json\", \"r\")\n",
    "Seat_SWP_pooled_Language_models = a_file.read()\n",
    "Seat_SWP_pooled_Language_models = json.loads(Seat_SWP_pooled_Language_models)\n",
    "Seat_SWP_pooled_Language_models_df = pd.DataFrame(Seat_SWP_pooled_Language_models)\n",
    "Seat_SWP_pooled_Language_models_df = Seat_SWP_pooled_Language_models_df.mean(axis = 1)\n",
    "Seat_SWP_pooled_Language_models_df"
   ]
  },
  {
   "cell_type": "code",
   "execution_count": 25,
   "metadata": {},
   "outputs": [
    {
     "data": {
      "text/plain": [
       "0    0.642853\n",
       "1    0.622108\n",
       "2    0.578971\n",
       "3    0.673112\n",
       "4    0.450213\n",
       "dtype: float64"
      ]
     },
     "execution_count": 25,
     "metadata": {},
     "output_type": "execute_result"
    }
   ],
   "source": [
    "import json\n",
    "import ast\n",
    "import pandas as pd\n",
    "\n",
    "a_file = open(\"5_seat_SWP_templates_Language_models.json\", \"r\")\n",
    "seat_SWP_templates_Language_models = a_file.read()\n",
    "seat_SWP_templates_Language_models = json.loads(seat_SWP_templates_Language_models)\n",
    "seat_SWP_templates_Language_models_df = pd.DataFrame(seat_SWP_templates_Language_models)\n",
    "seat_SWP_templates_Language_models_df = seat_SWP_templates_Language_models_df.mean(axis = 1)\n",
    "seat_SWP_templates_Language_models_df"
   ]
  },
  {
   "cell_type": "code",
   "execution_count": 12,
   "metadata": {},
   "outputs": [
    {
     "data": {
      "text/plain": [
       "0    0.998898\n",
       "1    0.943701\n",
       "2    1.048917\n",
       "3    0.776440\n",
       "4    0.362717\n",
       "dtype: float64"
      ]
     },
     "execution_count": 12,
     "metadata": {},
     "output_type": "execute_result"
    }
   ],
   "source": [
    "import json\n",
    "import ast\n",
    "import pandas as pd\n",
    "\n",
    "a_file = open(\"6_seat_vulic_templates_Language_models.json\", \"r\")\n",
    "seat_vulic_templates_Language_models = a_file.read()\n",
    "seat_vulic_templates_Language_models = json.loads(seat_vulic_templates_Language_models)\n",
    "seat_vulic_templates_Language_models_df = pd.DataFrame(seat_vulic_templates_Language_models)\n",
    "seat_vulic_templates_Language_models_df = seat_vulic_templates_Language_models_df.mean(axis = 1)\n",
    "seat_vulic_templates_Language_models_df"
   ]
  },
  {
   "cell_type": "code",
   "execution_count": 14,
   "metadata": {},
   "outputs": [
    {
     "data": {
      "text/html": [
       "<div>\n",
       "<style scoped>\n",
       "    .dataframe tbody tr th:only-of-type {\n",
       "        vertical-align: middle;\n",
       "    }\n",
       "\n",
       "    .dataframe tbody tr th {\n",
       "        vertical-align: top;\n",
       "    }\n",
       "\n",
       "    .dataframe thead th {\n",
       "        text-align: right;\n",
       "    }\n",
       "</style>\n",
       "<table border=\"1\" class=\"dataframe\">\n",
       "  <thead>\n",
       "    <tr style=\"text-align: right;\">\n",
       "      <th></th>\n",
       "      <th>0</th>\n",
       "      <th>1</th>\n",
       "      <th>2</th>\n",
       "      <th>3</th>\n",
       "      <th>4</th>\n",
       "      <th>5</th>\n",
       "    </tr>\n",
       "  </thead>\n",
       "  <tbody>\n",
       "    <tr>\n",
       "      <th>0</th>\n",
       "      <td>0.903205</td>\n",
       "      <td>0.586886</td>\n",
       "      <td>0.624534</td>\n",
       "      <td>0.844692</td>\n",
       "      <td>0.642853</td>\n",
       "      <td>0.998898</td>\n",
       "    </tr>\n",
       "    <tr>\n",
       "      <th>1</th>\n",
       "      <td>0.517609</td>\n",
       "      <td>0.040473</td>\n",
       "      <td>-0.303670</td>\n",
       "      <td>0.759679</td>\n",
       "      <td>0.622108</td>\n",
       "      <td>0.943701</td>\n",
       "    </tr>\n",
       "    <tr>\n",
       "      <th>2</th>\n",
       "      <td>1.150959</td>\n",
       "      <td>-0.154225</td>\n",
       "      <td>0.045648</td>\n",
       "      <td>0.756952</td>\n",
       "      <td>0.578971</td>\n",
       "      <td>1.048917</td>\n",
       "    </tr>\n",
       "    <tr>\n",
       "      <th>3</th>\n",
       "      <td>0.765110</td>\n",
       "      <td>0.915775</td>\n",
       "      <td>0.565342</td>\n",
       "      <td>0.586787</td>\n",
       "      <td>0.673112</td>\n",
       "      <td>0.776440</td>\n",
       "    </tr>\n",
       "    <tr>\n",
       "      <th>4</th>\n",
       "      <td>0.395628</td>\n",
       "      <td>0.019882</td>\n",
       "      <td>0.004515</td>\n",
       "      <td>0.557663</td>\n",
       "      <td>0.450213</td>\n",
       "      <td>0.362717</td>\n",
       "    </tr>\n",
       "  </tbody>\n",
       "</table>\n",
       "</div>"
      ],
      "text/plain": [
       "          0         1         2         3         4         5\n",
       "0  0.903205  0.586886  0.624534  0.844692  0.642853  0.998898\n",
       "1  0.517609  0.040473 -0.303670  0.759679  0.622108  0.943701\n",
       "2  1.150959 -0.154225  0.045648  0.756952  0.578971  1.048917\n",
       "3  0.765110  0.915775  0.565342  0.586787  0.673112  0.776440\n",
       "4  0.395628  0.019882  0.004515  0.557663  0.450213  0.362717"
      ]
     },
     "execution_count": 14,
     "metadata": {},
     "output_type": "execute_result"
    }
   ],
   "source": [
    "corr_df = pd.concat([cls_df, seat_no_context_templates_Language_models_df, seat_no_context_pooled_templates_Language_models_df, Seat_SWP_pooled_Language_models_df, seat_SWP_templates_Language_models_df, seat_vulic_templates_Language_models_df], axis=1)\n",
    "corr_df"
   ]
  },
  {
   "cell_type": "code",
   "execution_count": 15,
   "metadata": {},
   "outputs": [],
   "source": [
    "corr = corr_df.corr(method=\"pearson\")"
   ]
  },
  {
   "cell_type": "code",
   "execution_count": 16,
   "metadata": {},
   "outputs": [
    {
     "data": {
      "text/html": [
       "<style  type=\"text/css\" >\n",
       "    #T_4c4a0de2_6d64_11ec_b195_0242ac110003row0_col0 {\n",
       "            background-color:  #b40426;\n",
       "            color:  #f1f1f1;\n",
       "        }    #T_4c4a0de2_6d64_11ec_b195_0242ac110003row0_col1 {\n",
       "            background-color:  #6f92f3;\n",
       "            color:  #000000;\n",
       "        }    #T_4c4a0de2_6d64_11ec_b195_0242ac110003row0_col2 {\n",
       "            background-color:  #d7dce3;\n",
       "            color:  #000000;\n",
       "        }    #T_4c4a0de2_6d64_11ec_b195_0242ac110003row0_col3 {\n",
       "            background-color:  #f1cdba;\n",
       "            color:  #000000;\n",
       "        }    #T_4c4a0de2_6d64_11ec_b195_0242ac110003row0_col4 {\n",
       "            background-color:  #e0dbd8;\n",
       "            color:  #000000;\n",
       "        }    #T_4c4a0de2_6d64_11ec_b195_0242ac110003row0_col5 {\n",
       "            background-color:  #f18d6f;\n",
       "            color:  #000000;\n",
       "        }    #T_4c4a0de2_6d64_11ec_b195_0242ac110003row1_col0 {\n",
       "            background-color:  #6f92f3;\n",
       "            color:  #000000;\n",
       "        }    #T_4c4a0de2_6d64_11ec_b195_0242ac110003row1_col1 {\n",
       "            background-color:  #b40426;\n",
       "            color:  #f1f1f1;\n",
       "        }    #T_4c4a0de2_6d64_11ec_b195_0242ac110003row1_col2 {\n",
       "            background-color:  #e16751;\n",
       "            color:  #000000;\n",
       "        }    #T_4c4a0de2_6d64_11ec_b195_0242ac110003row1_col3 {\n",
       "            background-color:  #3b4cc0;\n",
       "            color:  #f1f1f1;\n",
       "        }    #T_4c4a0de2_6d64_11ec_b195_0242ac110003row1_col4 {\n",
       "            background-color:  #f7af91;\n",
       "            color:  #000000;\n",
       "        }    #T_4c4a0de2_6d64_11ec_b195_0242ac110003row1_col5 {\n",
       "            background-color:  #688aef;\n",
       "            color:  #000000;\n",
       "        }    #T_4c4a0de2_6d64_11ec_b195_0242ac110003row2_col0 {\n",
       "            background-color:  #d7dce3;\n",
       "            color:  #000000;\n",
       "        }    #T_4c4a0de2_6d64_11ec_b195_0242ac110003row2_col1 {\n",
       "            background-color:  #e16751;\n",
       "            color:  #000000;\n",
       "        }    #T_4c4a0de2_6d64_11ec_b195_0242ac110003row2_col2 {\n",
       "            background-color:  #b40426;\n",
       "            color:  #f1f1f1;\n",
       "        }    #T_4c4a0de2_6d64_11ec_b195_0242ac110003row2_col3 {\n",
       "            background-color:  #6c8ff1;\n",
       "            color:  #000000;\n",
       "        }    #T_4c4a0de2_6d64_11ec_b195_0242ac110003row2_col4 {\n",
       "            background-color:  #e6d7cf;\n",
       "            color:  #000000;\n",
       "        }    #T_4c4a0de2_6d64_11ec_b195_0242ac110003row2_col5 {\n",
       "            background-color:  #82a6fb;\n",
       "            color:  #000000;\n",
       "        }    #T_4c4a0de2_6d64_11ec_b195_0242ac110003row3_col0 {\n",
       "            background-color:  #f1cdba;\n",
       "            color:  #000000;\n",
       "        }    #T_4c4a0de2_6d64_11ec_b195_0242ac110003row3_col1 {\n",
       "            background-color:  #3b4cc0;\n",
       "            color:  #f1f1f1;\n",
       "        }    #T_4c4a0de2_6d64_11ec_b195_0242ac110003row3_col2 {\n",
       "            background-color:  #6c8ff1;\n",
       "            color:  #000000;\n",
       "        }    #T_4c4a0de2_6d64_11ec_b195_0242ac110003row3_col3 {\n",
       "            background-color:  #b40426;\n",
       "            color:  #f1f1f1;\n",
       "        }    #T_4c4a0de2_6d64_11ec_b195_0242ac110003row3_col4 {\n",
       "            background-color:  #e1dad6;\n",
       "            color:  #000000;\n",
       "        }    #T_4c4a0de2_6d64_11ec_b195_0242ac110003row3_col5 {\n",
       "            background-color:  #e0654f;\n",
       "            color:  #000000;\n",
       "        }    #T_4c4a0de2_6d64_11ec_b195_0242ac110003row4_col0 {\n",
       "            background-color:  #e0dbd8;\n",
       "            color:  #000000;\n",
       "        }    #T_4c4a0de2_6d64_11ec_b195_0242ac110003row4_col1 {\n",
       "            background-color:  #f7af91;\n",
       "            color:  #000000;\n",
       "        }    #T_4c4a0de2_6d64_11ec_b195_0242ac110003row4_col2 {\n",
       "            background-color:  #e6d7cf;\n",
       "            color:  #000000;\n",
       "        }    #T_4c4a0de2_6d64_11ec_b195_0242ac110003row4_col3 {\n",
       "            background-color:  #e1dad6;\n",
       "            color:  #000000;\n",
       "        }    #T_4c4a0de2_6d64_11ec_b195_0242ac110003row4_col4 {\n",
       "            background-color:  #b40426;\n",
       "            color:  #f1f1f1;\n",
       "        }    #T_4c4a0de2_6d64_11ec_b195_0242ac110003row4_col5 {\n",
       "            background-color:  #f39475;\n",
       "            color:  #000000;\n",
       "        }    #T_4c4a0de2_6d64_11ec_b195_0242ac110003row5_col0 {\n",
       "            background-color:  #f18d6f;\n",
       "            color:  #000000;\n",
       "        }    #T_4c4a0de2_6d64_11ec_b195_0242ac110003row5_col1 {\n",
       "            background-color:  #688aef;\n",
       "            color:  #000000;\n",
       "        }    #T_4c4a0de2_6d64_11ec_b195_0242ac110003row5_col2 {\n",
       "            background-color:  #82a6fb;\n",
       "            color:  #000000;\n",
       "        }    #T_4c4a0de2_6d64_11ec_b195_0242ac110003row5_col3 {\n",
       "            background-color:  #e0654f;\n",
       "            color:  #000000;\n",
       "        }    #T_4c4a0de2_6d64_11ec_b195_0242ac110003row5_col4 {\n",
       "            background-color:  #f39475;\n",
       "            color:  #000000;\n",
       "        }    #T_4c4a0de2_6d64_11ec_b195_0242ac110003row5_col5 {\n",
       "            background-color:  #b40426;\n",
       "            color:  #f1f1f1;\n",
       "        }</style><table id=\"T_4c4a0de2_6d64_11ec_b195_0242ac110003\" ><thead>    <tr>        <th class=\"blank level0\" ></th>        <th class=\"col_heading level0 col0\" >0</th>        <th class=\"col_heading level0 col1\" >1</th>        <th class=\"col_heading level0 col2\" >2</th>        <th class=\"col_heading level0 col3\" >3</th>        <th class=\"col_heading level0 col4\" >4</th>        <th class=\"col_heading level0 col5\" >5</th>    </tr></thead><tbody>\n",
       "                <tr>\n",
       "                        <th id=\"T_4c4a0de2_6d64_11ec_b195_0242ac110003level0_row0\" class=\"row_heading level0 row0\" >0</th>\n",
       "                        <td id=\"T_4c4a0de2_6d64_11ec_b195_0242ac110003row0_col0\" class=\"data row0 col0\" >1.000000</td>\n",
       "                        <td id=\"T_4c4a0de2_6d64_11ec_b195_0242ac110003row0_col1\" class=\"data row0 col1\" >0.055901</td>\n",
       "                        <td id=\"T_4c4a0de2_6d64_11ec_b195_0242ac110003row0_col2\" class=\"data row0 col2\" >0.407183</td>\n",
       "                        <td id=\"T_4c4a0de2_6d64_11ec_b195_0242ac110003row0_col3\" class=\"data row0 col3\" >0.536933</td>\n",
       "                        <td id=\"T_4c4a0de2_6d64_11ec_b195_0242ac110003row0_col4\" class=\"data row0 col4\" >0.447913</td>\n",
       "                        <td id=\"T_4c4a0de2_6d64_11ec_b195_0242ac110003row0_col5\" class=\"data row0 col5\" >0.749394</td>\n",
       "            </tr>\n",
       "            <tr>\n",
       "                        <th id=\"T_4c4a0de2_6d64_11ec_b195_0242ac110003level0_row1\" class=\"row_heading level0 row1\" >1</th>\n",
       "                        <td id=\"T_4c4a0de2_6d64_11ec_b195_0242ac110003row1_col0\" class=\"data row1 col0\" >0.055901</td>\n",
       "                        <td id=\"T_4c4a0de2_6d64_11ec_b195_0242ac110003row1_col1\" class=\"data row1 col1\" >1.000000</td>\n",
       "                        <td id=\"T_4c4a0de2_6d64_11ec_b195_0242ac110003row1_col2\" class=\"data row1 col2\" >0.841490</td>\n",
       "                        <td id=\"T_4c4a0de2_6d64_11ec_b195_0242ac110003row1_col3\" class=\"data row1 col3\" >-0.133141</td>\n",
       "                        <td id=\"T_4c4a0de2_6d64_11ec_b195_0242ac110003row1_col4\" class=\"data row1 col4\" >0.653048</td>\n",
       "                        <td id=\"T_4c4a0de2_6d64_11ec_b195_0242ac110003row1_col5\" class=\"data row1 col5\" >0.033993</td>\n",
       "            </tr>\n",
       "            <tr>\n",
       "                        <th id=\"T_4c4a0de2_6d64_11ec_b195_0242ac110003level0_row2\" class=\"row_heading level0 row2\" >2</th>\n",
       "                        <td id=\"T_4c4a0de2_6d64_11ec_b195_0242ac110003row2_col0\" class=\"data row2 col0\" >0.407183</td>\n",
       "                        <td id=\"T_4c4a0de2_6d64_11ec_b195_0242ac110003row2_col1\" class=\"data row2 col1\" >0.841490</td>\n",
       "                        <td id=\"T_4c4a0de2_6d64_11ec_b195_0242ac110003row2_col2\" class=\"data row2 col2\" >1.000000</td>\n",
       "                        <td id=\"T_4c4a0de2_6d64_11ec_b195_0242ac110003row2_col3\" class=\"data row2 col3\" >0.046613</td>\n",
       "                        <td id=\"T_4c4a0de2_6d64_11ec_b195_0242ac110003row2_col4\" class=\"data row2 col4\" >0.477071</td>\n",
       "                        <td id=\"T_4c4a0de2_6d64_11ec_b195_0242ac110003row2_col5\" class=\"data row2 col5\" >0.118098</td>\n",
       "            </tr>\n",
       "            <tr>\n",
       "                        <th id=\"T_4c4a0de2_6d64_11ec_b195_0242ac110003level0_row3\" class=\"row_heading level0 row3\" >3</th>\n",
       "                        <td id=\"T_4c4a0de2_6d64_11ec_b195_0242ac110003row3_col0\" class=\"data row3 col0\" >0.536933</td>\n",
       "                        <td id=\"T_4c4a0de2_6d64_11ec_b195_0242ac110003row3_col1\" class=\"data row3 col1\" >-0.133141</td>\n",
       "                        <td id=\"T_4c4a0de2_6d64_11ec_b195_0242ac110003row3_col2\" class=\"data row3 col2\" >0.046613</td>\n",
       "                        <td id=\"T_4c4a0de2_6d64_11ec_b195_0242ac110003row3_col3\" class=\"data row3 col3\" >1.000000</td>\n",
       "                        <td id=\"T_4c4a0de2_6d64_11ec_b195_0242ac110003row3_col4\" class=\"data row3 col4\" >0.451759</td>\n",
       "                        <td id=\"T_4c4a0de2_6d64_11ec_b195_0242ac110003row3_col5\" class=\"data row3 col5\" >0.846249</td>\n",
       "            </tr>\n",
       "            <tr>\n",
       "                        <th id=\"T_4c4a0de2_6d64_11ec_b195_0242ac110003level0_row4\" class=\"row_heading level0 row4\" >4</th>\n",
       "                        <td id=\"T_4c4a0de2_6d64_11ec_b195_0242ac110003row4_col0\" class=\"data row4 col0\" >0.447913</td>\n",
       "                        <td id=\"T_4c4a0de2_6d64_11ec_b195_0242ac110003row4_col1\" class=\"data row4 col1\" >0.653048</td>\n",
       "                        <td id=\"T_4c4a0de2_6d64_11ec_b195_0242ac110003row4_col2\" class=\"data row4 col2\" >0.477071</td>\n",
       "                        <td id=\"T_4c4a0de2_6d64_11ec_b195_0242ac110003row4_col3\" class=\"data row4 col3\" >0.451759</td>\n",
       "                        <td id=\"T_4c4a0de2_6d64_11ec_b195_0242ac110003row4_col4\" class=\"data row4 col4\" >1.000000</td>\n",
       "                        <td id=\"T_4c4a0de2_6d64_11ec_b195_0242ac110003row4_col5\" class=\"data row4 col5\" >0.732555</td>\n",
       "            </tr>\n",
       "            <tr>\n",
       "                        <th id=\"T_4c4a0de2_6d64_11ec_b195_0242ac110003level0_row5\" class=\"row_heading level0 row5\" >5</th>\n",
       "                        <td id=\"T_4c4a0de2_6d64_11ec_b195_0242ac110003row5_col0\" class=\"data row5 col0\" >0.749394</td>\n",
       "                        <td id=\"T_4c4a0de2_6d64_11ec_b195_0242ac110003row5_col1\" class=\"data row5 col1\" >0.033993</td>\n",
       "                        <td id=\"T_4c4a0de2_6d64_11ec_b195_0242ac110003row5_col2\" class=\"data row5 col2\" >0.118098</td>\n",
       "                        <td id=\"T_4c4a0de2_6d64_11ec_b195_0242ac110003row5_col3\" class=\"data row5 col3\" >0.846249</td>\n",
       "                        <td id=\"T_4c4a0de2_6d64_11ec_b195_0242ac110003row5_col4\" class=\"data row5 col4\" >0.732555</td>\n",
       "                        <td id=\"T_4c4a0de2_6d64_11ec_b195_0242ac110003row5_col5\" class=\"data row5 col5\" >1.000000</td>\n",
       "            </tr>\n",
       "    </tbody></table>"
      ],
      "text/plain": [
       "<pandas.io.formats.style.Styler at 0x7fa9dd3e3ad0>"
      ]
     },
     "execution_count": 16,
     "metadata": {},
     "output_type": "execute_result"
    }
   ],
   "source": [
    "corr.style.background_gradient(cmap='coolwarm', axis=None)\n"
   ]
  },
  {
   "cell_type": "code",
   "execution_count": null,
   "metadata": {},
   "outputs": [],
   "source": []
  },
  {
   "cell_type": "code",
   "execution_count": null,
   "metadata": {},
   "outputs": [],
   "source": []
  },
  {
   "cell_type": "code",
   "execution_count": null,
   "metadata": {},
   "outputs": [],
   "source": []
  },
  {
   "cell_type": "code",
   "execution_count": null,
   "metadata": {},
   "outputs": [],
   "source": []
  },
  {
   "cell_type": "code",
   "execution_count": null,
   "metadata": {},
   "outputs": [],
   "source": []
  },
  {
   "cell_type": "code",
   "execution_count": null,
   "metadata": {},
   "outputs": [],
   "source": []
  },
  {
   "cell_type": "code",
   "execution_count": 4,
   "metadata": {},
   "outputs": [],
   "source": [
    "SWP_correlation_df = pd.DataFrame(seat_SWP_templates)"
   ]
  },
  {
   "cell_type": "code",
   "execution_count": 5,
   "metadata": {},
   "outputs": [
    {
     "data": {
      "text/html": [
       "<div>\n",
       "<style scoped>\n",
       "    .dataframe tbody tr th:only-of-type {\n",
       "        vertical-align: middle;\n",
       "    }\n",
       "\n",
       "    .dataframe tbody tr th {\n",
       "        vertical-align: top;\n",
       "    }\n",
       "\n",
       "    .dataframe thead th {\n",
       "        text-align: right;\n",
       "    }\n",
       "</style>\n",
       "<table border=\"1\" class=\"dataframe\">\n",
       "  <thead>\n",
       "    <tr style=\"text-align: right;\">\n",
       "      <th></th>\n",
       "      <th>temp1</th>\n",
       "      <th>temp2</th>\n",
       "      <th>temp3</th>\n",
       "      <th>temp4</th>\n",
       "      <th>temp5</th>\n",
       "      <th>temp6</th>\n",
       "      <th>temp7</th>\n",
       "      <th>temp8</th>\n",
       "      <th>temp9</th>\n",
       "      <th>temp10</th>\n",
       "      <th>temp11</th>\n",
       "    </tr>\n",
       "  </thead>\n",
       "  <tbody>\n",
       "    <tr>\n",
       "      <th>0</th>\n",
       "      <td>0.697310</td>\n",
       "      <td>0.638042</td>\n",
       "      <td>0.526831</td>\n",
       "      <td>0.657153</td>\n",
       "      <td>0.769780</td>\n",
       "      <td>0.699615</td>\n",
       "      <td>0.426369</td>\n",
       "      <td>0.883557</td>\n",
       "      <td>0.732028</td>\n",
       "      <td>0.492450</td>\n",
       "      <td>0.548246</td>\n",
       "    </tr>\n",
       "    <tr>\n",
       "      <th>1</th>\n",
       "      <td>0.716191</td>\n",
       "      <td>0.761539</td>\n",
       "      <td>0.638168</td>\n",
       "      <td>0.538252</td>\n",
       "      <td>0.718469</td>\n",
       "      <td>0.855524</td>\n",
       "      <td>0.364053</td>\n",
       "      <td>0.744915</td>\n",
       "      <td>0.270908</td>\n",
       "      <td>0.177106</td>\n",
       "      <td>1.058066</td>\n",
       "    </tr>\n",
       "    <tr>\n",
       "      <th>2</th>\n",
       "      <td>0.726259</td>\n",
       "      <td>0.482323</td>\n",
       "      <td>0.438272</td>\n",
       "      <td>0.367341</td>\n",
       "      <td>0.589767</td>\n",
       "      <td>0.557613</td>\n",
       "      <td>0.645076</td>\n",
       "      <td>0.470532</td>\n",
       "      <td>0.635380</td>\n",
       "      <td>0.644608</td>\n",
       "      <td>0.811503</td>\n",
       "    </tr>\n",
       "    <tr>\n",
       "      <th>3</th>\n",
       "      <td>0.575352</td>\n",
       "      <td>0.679615</td>\n",
       "      <td>0.624736</td>\n",
       "      <td>0.692639</td>\n",
       "      <td>0.744659</td>\n",
       "      <td>0.745710</td>\n",
       "      <td>0.635425</td>\n",
       "      <td>0.682944</td>\n",
       "      <td>0.611889</td>\n",
       "      <td>0.698984</td>\n",
       "      <td>0.712282</td>\n",
       "    </tr>\n",
       "    <tr>\n",
       "      <th>4</th>\n",
       "      <td>0.588374</td>\n",
       "      <td>0.524936</td>\n",
       "      <td>0.429189</td>\n",
       "      <td>0.506633</td>\n",
       "      <td>0.382248</td>\n",
       "      <td>0.413249</td>\n",
       "      <td>0.418470</td>\n",
       "      <td>0.470509</td>\n",
       "      <td>0.643383</td>\n",
       "      <td>0.343785</td>\n",
       "      <td>0.231571</td>\n",
       "    </tr>\n",
       "  </tbody>\n",
       "</table>\n",
       "</div>"
      ],
      "text/plain": [
       "      temp1     temp2     temp3     temp4     temp5     temp6     temp7  \\\n",
       "0  0.697310  0.638042  0.526831  0.657153  0.769780  0.699615  0.426369   \n",
       "1  0.716191  0.761539  0.638168  0.538252  0.718469  0.855524  0.364053   \n",
       "2  0.726259  0.482323  0.438272  0.367341  0.589767  0.557613  0.645076   \n",
       "3  0.575352  0.679615  0.624736  0.692639  0.744659  0.745710  0.635425   \n",
       "4  0.588374  0.524936  0.429189  0.506633  0.382248  0.413249  0.418470   \n",
       "\n",
       "      temp8     temp9    temp10    temp11  \n",
       "0  0.883557  0.732028  0.492450  0.548246  \n",
       "1  0.744915  0.270908  0.177106  1.058066  \n",
       "2  0.470532  0.635380  0.644608  0.811503  \n",
       "3  0.682944  0.611889  0.698984  0.712282  \n",
       "4  0.470509  0.643383  0.343785  0.231571  "
      ]
     },
     "execution_count": 5,
     "metadata": {},
     "output_type": "execute_result"
    }
   ],
   "source": [
    "SWP_correlation_df"
   ]
  },
  {
   "cell_type": "code",
   "execution_count": 12,
   "metadata": {},
   "outputs": [
    {
     "data": {
      "text/plain": [
       "0    0.642853\n",
       "1    0.622108\n",
       "2    0.578971\n",
       "3    0.673112\n",
       "4    0.450213\n",
       "dtype: float64"
      ]
     },
     "execution_count": 12,
     "metadata": {},
     "output_type": "execute_result"
    }
   ],
   "source": [
    "SWP_df = SWP_correlation_df.mean(axis = 1)\n",
    "SWP_df"
   ]
  },
  {
   "cell_type": "markdown",
   "metadata": {},
   "source": [
    "correlation of results"
   ]
  },
  {
   "cell_type": "code",
   "execution_count": 6,
   "metadata": {},
   "outputs": [],
   "source": []
  },
  {
   "cell_type": "code",
   "execution_count": 8,
   "metadata": {},
   "outputs": [],
   "source": []
  },
  {
   "cell_type": "code",
   "execution_count": 9,
   "metadata": {},
   "outputs": [
    {
     "data": {
      "text/html": [
       "<div>\n",
       "<style scoped>\n",
       "    .dataframe tbody tr th:only-of-type {\n",
       "        vertical-align: middle;\n",
       "    }\n",
       "\n",
       "    .dataframe tbody tr th {\n",
       "        vertical-align: top;\n",
       "    }\n",
       "\n",
       "    .dataframe thead th {\n",
       "        text-align: right;\n",
       "    }\n",
       "</style>\n",
       "<table border=\"1\" class=\"dataframe\">\n",
       "  <thead>\n",
       "    <tr style=\"text-align: right;\">\n",
       "      <th></th>\n",
       "      <th>temp1</th>\n",
       "      <th>temp2</th>\n",
       "      <th>temp3</th>\n",
       "      <th>temp4</th>\n",
       "      <th>temp5</th>\n",
       "      <th>temp6</th>\n",
       "      <th>temp7</th>\n",
       "      <th>temp8</th>\n",
       "      <th>temp9</th>\n",
       "      <th>temp10</th>\n",
       "      <th>temp11</th>\n",
       "    </tr>\n",
       "  </thead>\n",
       "  <tbody>\n",
       "    <tr>\n",
       "      <th>0</th>\n",
       "      <td>1.167138</td>\n",
       "      <td>1.142949</td>\n",
       "      <td>0.646811</td>\n",
       "      <td>1.157351</td>\n",
       "      <td>0.991012</td>\n",
       "      <td>1.053681</td>\n",
       "      <td>0.609946</td>\n",
       "      <td>1.195015</td>\n",
       "      <td>1.061959</td>\n",
       "      <td>0.375970</td>\n",
       "      <td>0.533423</td>\n",
       "    </tr>\n",
       "    <tr>\n",
       "      <th>1</th>\n",
       "      <td>0.613182</td>\n",
       "      <td>0.768258</td>\n",
       "      <td>0.239446</td>\n",
       "      <td>0.582099</td>\n",
       "      <td>0.401164</td>\n",
       "      <td>0.589831</td>\n",
       "      <td>0.315054</td>\n",
       "      <td>0.790053</td>\n",
       "      <td>0.472379</td>\n",
       "      <td>0.666829</td>\n",
       "      <td>0.255406</td>\n",
       "    </tr>\n",
       "    <tr>\n",
       "      <th>2</th>\n",
       "      <td>1.245065</td>\n",
       "      <td>1.044892</td>\n",
       "      <td>1.192398</td>\n",
       "      <td>1.061558</td>\n",
       "      <td>1.123705</td>\n",
       "      <td>1.186450</td>\n",
       "      <td>1.267020</td>\n",
       "      <td>1.159719</td>\n",
       "      <td>1.105093</td>\n",
       "      <td>1.318764</td>\n",
       "      <td>0.955881</td>\n",
       "    </tr>\n",
       "    <tr>\n",
       "      <th>3</th>\n",
       "      <td>0.824178</td>\n",
       "      <td>0.871382</td>\n",
       "      <td>0.417167</td>\n",
       "      <td>0.761588</td>\n",
       "      <td>0.765071</td>\n",
       "      <td>0.811055</td>\n",
       "      <td>0.848156</td>\n",
       "      <td>0.763102</td>\n",
       "      <td>1.094728</td>\n",
       "      <td>0.874156</td>\n",
       "      <td>0.385628</td>\n",
       "    </tr>\n",
       "    <tr>\n",
       "      <th>4</th>\n",
       "      <td>0.389974</td>\n",
       "      <td>0.159528</td>\n",
       "      <td>0.372448</td>\n",
       "      <td>0.757803</td>\n",
       "      <td>0.355018</td>\n",
       "      <td>0.394137</td>\n",
       "      <td>0.382028</td>\n",
       "      <td>0.411563</td>\n",
       "      <td>0.169220</td>\n",
       "      <td>0.500763</td>\n",
       "      <td>0.459423</td>\n",
       "    </tr>\n",
       "  </tbody>\n",
       "</table>\n",
       "</div>"
      ],
      "text/plain": [
       "      temp1     temp2     temp3     temp4     temp5     temp6     temp7  \\\n",
       "0  1.167138  1.142949  0.646811  1.157351  0.991012  1.053681  0.609946   \n",
       "1  0.613182  0.768258  0.239446  0.582099  0.401164  0.589831  0.315054   \n",
       "2  1.245065  1.044892  1.192398  1.061558  1.123705  1.186450  1.267020   \n",
       "3  0.824178  0.871382  0.417167  0.761588  0.765071  0.811055  0.848156   \n",
       "4  0.389974  0.159528  0.372448  0.757803  0.355018  0.394137  0.382028   \n",
       "\n",
       "      temp8     temp9    temp10    temp11  \n",
       "0  1.195015  1.061959  0.375970  0.533423  \n",
       "1  0.790053  0.472379  0.666829  0.255406  \n",
       "2  1.159719  1.105093  1.318764  0.955881  \n",
       "3  0.763102  1.094728  0.874156  0.385628  \n",
       "4  0.411563  0.169220  0.500763  0.459423  "
      ]
     },
     "execution_count": 9,
     "metadata": {},
     "output_type": "execute_result"
    }
   ],
   "source": [
    "cls_correlation_df"
   ]
  },
  {
   "cell_type": "code",
   "execution_count": 13,
   "metadata": {},
   "outputs": [
    {
     "data": {
      "text/plain": [
       "0    0.903205\n",
       "1    0.517609\n",
       "2    1.150959\n",
       "3    0.765110\n",
       "4    0.395628\n",
       "dtype: float64"
      ]
     },
     "execution_count": 13,
     "metadata": {},
     "output_type": "execute_result"
    }
   ],
   "source": []
  },
  {
   "cell_type": "markdown",
   "metadata": {},
   "source": [
    "correlation analysis"
   ]
  },
  {
   "cell_type": "code",
   "execution_count": 18,
   "metadata": {},
   "outputs": [
    {
     "data": {
      "text/html": [
       "<div>\n",
       "<style scoped>\n",
       "    .dataframe tbody tr th:only-of-type {\n",
       "        vertical-align: middle;\n",
       "    }\n",
       "\n",
       "    .dataframe tbody tr th {\n",
       "        vertical-align: top;\n",
       "    }\n",
       "\n",
       "    .dataframe thead th {\n",
       "        text-align: right;\n",
       "    }\n",
       "</style>\n",
       "<table border=\"1\" class=\"dataframe\">\n",
       "  <thead>\n",
       "    <tr style=\"text-align: right;\">\n",
       "      <th></th>\n",
       "      <th>0</th>\n",
       "      <th>1</th>\n",
       "    </tr>\n",
       "  </thead>\n",
       "  <tbody>\n",
       "    <tr>\n",
       "      <th>0</th>\n",
       "      <td>0.642853</td>\n",
       "      <td>0.903205</td>\n",
       "    </tr>\n",
       "    <tr>\n",
       "      <th>1</th>\n",
       "      <td>0.622108</td>\n",
       "      <td>0.517609</td>\n",
       "    </tr>\n",
       "    <tr>\n",
       "      <th>2</th>\n",
       "      <td>0.578971</td>\n",
       "      <td>1.150959</td>\n",
       "    </tr>\n",
       "    <tr>\n",
       "      <th>3</th>\n",
       "      <td>0.673112</td>\n",
       "      <td>0.765110</td>\n",
       "    </tr>\n",
       "    <tr>\n",
       "      <th>4</th>\n",
       "      <td>0.450213</td>\n",
       "      <td>0.395628</td>\n",
       "    </tr>\n",
       "  </tbody>\n",
       "</table>\n",
       "</div>"
      ],
      "text/plain": [
       "          0         1\n",
       "0  0.642853  0.903205\n",
       "1  0.622108  0.517609\n",
       "2  0.578971  1.150959\n",
       "3  0.673112  0.765110\n",
       "4  0.450213  0.395628"
      ]
     },
     "execution_count": 18,
     "metadata": {},
     "output_type": "execute_result"
    }
   ],
   "source": [
    "corr_df = pd.concat([SWP_df, cls_df], axis=1)\n",
    "corr_df"
   ]
  },
  {
   "cell_type": "code",
   "execution_count": null,
   "metadata": {},
   "outputs": [],
   "source": []
  }
 ],
 "metadata": {
  "kernelspec": {
   "display_name": "Python 3",
   "language": "python",
   "name": "python3"
  },
  "language_info": {
   "codemirror_mode": {
    "name": "ipython",
    "version": 3
   },
   "file_extension": ".py",
   "mimetype": "text/x-python",
   "name": "python",
   "nbconvert_exporter": "python",
   "pygments_lexer": "ipython3",
   "version": "3.7.6"
  }
 },
 "nbformat": 4,
 "nbformat_minor": 4
}
