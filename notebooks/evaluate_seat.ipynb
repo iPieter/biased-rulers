{
 "cells": [
  {
   "cell_type": "code",
   "execution_count": 1,
   "metadata": {},
   "outputs": [],
   "source": [
    "import os\n",
    "\n",
    "os.chdir(\"../\")\n",
    "from src.metrics import seat"
   ]
  },
  {
   "cell_type": "code",
   "execution_count": 2,
   "metadata": {},
   "outputs": [
    {
     "name": "stderr",
     "output_type": "stream",
     "text": [
      "Some weights of the model checkpoint at bert-base-uncased were not used when initializing BertModel: ['cls.seq_relationship.weight', 'cls.predictions.transform.LayerNorm.bias', 'cls.seq_relationship.bias', 'cls.predictions.transform.LayerNorm.weight', 'cls.predictions.transform.dense.weight', 'cls.predictions.transform.dense.bias', 'cls.predictions.decoder.weight', 'cls.predictions.bias']\n",
      "- This IS expected if you are initializing BertModel from the checkpoint of a model trained on another task or with another architecture (e.g. initializing a BertForSequenceClassification model from a BertForPreTraining model).\n",
      "- This IS NOT expected if you are initializing BertModel from the checkpoint of a model that you expect to be exactly identical (initializing a BertForSequenceClassification model from a BertForSequenceClassification model).\n"
     ]
    }
   ],
   "source": [
    "import numpy as np\n",
    "from transformers import BertTokenizer, BertModel\n",
    "import torch\n",
    "\n",
    "tokenizer = BertTokenizer.from_pretrained(\"bert-base-uncased\")\n",
    "model = BertModel.from_pretrained(\"bert-base-uncased\")"
   ]
  },
  {
   "cell_type": "code",
   "execution_count": 3,
   "metadata": {},
   "outputs": [
    {
     "name": "stdout",
     "output_type": "stream",
     "text": [
      "{0: 1.2183891801905424, 1: 1.1494166725869472, 2: 1.0876914626353713, 3: 1.1775286878780287, 4: 1.4163213586462502, 5: 1.2950851894951154, 6: 1.2639451503281618, 7: 1.0514229043180452, 8: 1.214565758255554, 9: 1.2051362169611868, 10: 1.0848235989185238, 11: 1.027950708645785, 12: 1.236813556375959, 13: 0.8492048691495063, 14: 1.29217896189363, 15: 1.1385867962846512, 16: 1.185702037906551, 17: 1.0455115821090182, 18: 1.233914191834782, 19: 1.2185116110453875}\n"
     ]
    }
   ],
   "source": [
    "\n",
    "attribute_template = \"This is the _.\"\n",
    "target_template = \"This is the _.\"\n",
    "\n",
    "print(seat.seat_test(attribute_template, target_template, tokenizer, model))\n"
   ]
  }
 ],
 "metadata": {
  "interpreter": {
   "hash": "e94ad2f0a869c7a0d4fd2f25322f5fcfa75a94c6b344072802a64a2c890d2c64"
  },
  "kernelspec": {
   "display_name": "Python 3.6.7 64-bit ('.env': venv)",
   "language": "python",
   "name": "python3"
  },
  "language_info": {
   "codemirror_mode": {
    "name": "ipython",
    "version": 3
   },
   "file_extension": ".py",
   "mimetype": "text/x-python",
   "name": "python",
   "nbconvert_exporter": "python",
   "pygments_lexer": "ipython3",
   "version": "3.6.7"
  },
  "orig_nbformat": 4
 },
 "nbformat": 4,
 "nbformat_minor": 2
}
