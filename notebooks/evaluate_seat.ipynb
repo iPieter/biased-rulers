{
 "cells": [
  {
   "cell_type": "code",
   "execution_count": 1,
   "metadata": {},
   "outputs": [
    {
     "name": "stderr",
     "output_type": "stream",
     "text": [
      "Some weights of the model checkpoint at bert-base-uncased were not used when initializing BertModel: ['cls.predictions.transform.LayerNorm.weight', 'cls.seq_relationship.bias', 'cls.predictions.decoder.weight', 'cls.predictions.bias', 'cls.predictions.transform.LayerNorm.bias', 'cls.seq_relationship.weight', 'cls.predictions.transform.dense.weight', 'cls.predictions.transform.dense.bias']\n",
      "- This IS expected if you are initializing BertModel from the checkpoint of a model trained on another task or with another architecture (e.g. initializing a BertForSequenceClassification model from a BertForPreTraining model).\n",
      "- This IS NOT expected if you are initializing BertModel from the checkpoint of a model that you expect to be exactly identical (initializing a BertForSequenceClassification model from a BertForSequenceClassification model).\n"
     ]
    }
   ],
   "source": [
    "import os\n",
    "\n",
    "os.chdir(\"../\")\n",
    "from src.metrics import seat"
   ]
  },
  {
   "cell_type": "code",
   "execution_count": 2,
   "metadata": {},
   "outputs": [],
   "source": [
    "import numpy as np\n",
    "from transformers import BertTokenizer, BertModel\n",
    "import torch\n",
    "\n",
    "tokenizer = BertTokenizer.from_pretrained(\"bert-base-uncased\")\n",
    "model = BertModel.from_pretrained(\"bert-base-uncased\")"
   ]
  },
  {
   "cell_type": "code",
   "execution_count": 3,
   "metadata": {},
   "outputs": [
    {
     "name": "stdout",
     "output_type": "stream",
     "text": [
      "1.2183891801905424\n",
      "1.1494166725869472\n",
      "1.0876914626353713\n",
      "1.1775286878780287\n",
      "1.4163213586462502\n",
      "1.2950851894951154\n",
      "1.2639451503281618\n",
      "1.0514229043180452\n",
      "1.214565758255554\n",
      "1.2051362169611868\n",
      "1.0848235989185238\n",
      "1.027950708645785\n",
      "1.236813556375959\n",
      "0.8492048691495063\n",
      "1.29217896189363\n",
      "1.1385867962846512\n",
      "1.185702037906551\n",
      "1.0455115821090182\n",
      "1.233914191834782\n",
      "1.2185116110453875\n"
     ]
    }
   ],
   "source": [
    "\n",
    "score_dict = {}\n",
    "attribute_template = \"This is the _.\"\n",
    "target_template = \"This is the _.\"\n",
    "X = {\"x\" + str(j): seat.sentence_embedding(attribute_template, j, seat.EmbeddingType.CLS, tokenizer, model) for j in seat.XX}\n",
    "Y = {\"y\" + str(j): seat.sentence_embedding(attribute_template, j, seat.EmbeddingType.CLS, tokenizer, model) for j in seat.YY}\n",
    "(X, Y) = seat.convert_keys_to_ints(X, Y)\n",
    "XY = X.copy()\n",
    "XY.update(Y)\n",
    "X = np.array(list(X), dtype=np.int)\n",
    "Y = np.array(list(Y), dtype=np.int)\n",
    "for i in range(len(seat.female_list)):\n",
    "    AA = seat.female_list[i]\n",
    "#     print(AA)\n",
    "#     print(XX)\n",
    "    BB = seat.male_list[i]\n",
    "\n",
    "    A = {\"a\" + str(j): seat.sentence_embedding(target_template, j, seat.EmbeddingType.CLS, tokenizer, model) for j in AA}\n",
    "    B = {\"b\" + str(j): seat.sentence_embedding(target_template, j, seat.EmbeddingType.CLS, tokenizer, model) for j in BB}\n",
    "\n",
    "    (A, B) = seat.convert_keys_to_ints(A, B)\n",
    "\n",
    "\n",
    "    AB = A.copy()\n",
    "    AB.update(B)\n",
    "\n",
    "    cossims = seat.construct_cossim_lookup(XY, AB)\n",
    "    A = np.array(list(A), dtype=np.int)\n",
    "    B = np.array(list(B), dtype=np.int)\n",
    "\n",
    "\n",
    "    s_wAB_memo = seat.s_wAB(X, Y, cossims=cossims)\n",
    "    df1,df2 = seat.s_XAB_df(A, B, s_wAB_memo)\n",
    "    effect_size = seat.get_effect_size(df1, df2)\n",
    "    score_dict[i] = effect_size\n",
    "    print(score_dict[i])\n"
   ]
  }
 ],
 "metadata": {
  "interpreter": {
   "hash": "e94ad2f0a869c7a0d4fd2f25322f5fcfa75a94c6b344072802a64a2c890d2c64"
  },
  "kernelspec": {
   "display_name": "Python 3.6.7 64-bit ('.env': venv)",
   "language": "python",
   "name": "python3"
  },
  "language_info": {
   "codemirror_mode": {
    "name": "ipython",
    "version": 3
   },
   "file_extension": ".py",
   "mimetype": "text/x-python",
   "name": "python",
   "nbconvert_exporter": "python",
   "pygments_lexer": "ipython3",
   "version": "3.6.7"
  },
  "orig_nbformat": 4
 },
 "nbformat": 4,
 "nbformat_minor": 2
}
